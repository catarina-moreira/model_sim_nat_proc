{
 "cells": [
  {
   "cell_type": "markdown",
   "metadata": {},
   "source": [
    "# Simulation and Modelling::Week 1"
   ]
  },
  {
   "cell_type": "markdown",
   "metadata": {},
   "source": [
    "## Module 1. Objectives and Background"
   ]
  },
  {
   "cell_type": "markdown",
   "metadata": {},
   "source": [
    "### What is a model?\n",
    "\n",
    "A model is a representation of reality or part of reality, but not of the full system. \n",
    "\n",
    "- Simplified abstration of reality (or part of it, but never the full system) allowing us to better describe it and understand it;\n",
    "- Ans abstraction in which only the essential ingredients are retained, according to the question we ask about the question;\n",
    "- It is the representation of a phenomena in a mathematical or computer-based language;"
   ]
  },
  {
   "cell_type": "markdown",
   "metadata": {},
   "source": [
    "## Module 2. Modelling and Simulation"
   ]
  },
  {
   "cell_type": "markdown",
   "metadata": {},
   "source": [
    "### Why do we need a model?\n",
    "\n",
    "- Describe, classify, understand, predict and control some representation of reality"
   ]
  },
  {
   "cell_type": "markdown",
   "metadata": {},
   "source": [
    "### Levels of Reality\n",
    "\n",
    "Whenever we are dong modelling, we need to take into consideration a certain level of reality in a sense that according to a scale at which you want to describe a given process. \n",
    "\n",
    "You should adapt your model level to the question and the scale it to which you want to answer your problem. \n",
    "\n",
    "It is not always easy to identify these important ingredients and to indentify hoe these ingredients mutually interact. That is whay domain knowledge is important: you need it to understand the relationships between the main ingredients of your model. "
   ]
  },
  {
   "cell_type": "markdown",
   "metadata": {},
   "source": [
    "## Module 3. Modelling Space and Time\n",
    "\n",
    "Natural processes occur in space and evolve over time.\n"
   ]
  },
  {
   "cell_type": "markdown",
   "metadata": {},
   "source": [
    "### Time Evolution\n",
    "\n",
    "To capture the temporal dimensions in a model, there are several ways:\n",
    "- Time takes any real values. Only mathematical approaches can deal with this through differentcial equations);\n",
    "- Otherwise, the duration of the process is broken up in small time intervals $\\Delta_t$ and one describes the state of the system at ech of these **time-steps** $t_0 = 0, t_1 = \\Delta_t, ..., t_n = n \\Delta_t...$\n",
    "- The time is discretised, but the process is followed continuously iver the duration;\n",
    "- Alternatively, we can only focus on the interesting moments of a process;\n",
    "- The time ``t`` at which an event occurs can be any real value\n",
    "- Time is not discretised by the evolution of the system is broken up according to events\n",
    "- This is called *Discrete-Event Simulation (DES)* approach.\n"
   ]
  },
  {
   "cell_type": "markdown",
   "metadata": {},
   "source": [
    "### Modeling Space: Euclidean Approach\n",
    "\n",
    "To include the spatial dimensions in a model, there are also different ways.\n",
    "\n",
    "- One can take the point of view of an observer who is sit at a fixed position $\\bar{x}$ in space and records what he sees;\n",
    "- **Euclidean-Approach:** attach a property of the system at each spatial location;\n",
    "- Space can be continuous (mathematical models) or discretised in cells, forming a mesh covering the region of interest;"
   ]
  },
  {
   "cell_type": "markdown",
   "metadata": {},
   "source": [
    "### Modeling Space: Lagrangian Approach\n",
    "\n",
    "Alternatively, one can give the position of all the ojects of interest, as a function of time;"
   ]
  },
  {
   "cell_type": "markdown",
   "metadata": {},
   "source": [
    "### Beyond the Physical Space: Complex Networks\n",
    "\n",
    "In many systems, it is not so much the exact spatial positions of the components of a system that matters. It is rather whether these components see each other or can interact. These approaches are usualy modelled in a **graph**. \n",
    "\n",
    "- Graph topology imposes a rich spatial structure which constraints the dynamics;\n",
    "- Many quantities characterise the graph topology and can be related to some global properties of the system: degree distribution, clustering coefficient, centrality measures, assortativity, etc.\n"
   ]
  },
  {
   "cell_type": "markdown",
   "metadata": {},
   "source": [
    "## Module 5. Monte Carlo Methods I"
   ]
  },
  {
   "cell_type": "markdown",
   "metadata": {},
   "source": [
    "### Background\n",
    "\n",
    "The goal of Monte Carlo methods is the sampling of a process in order to determine some statistical properties;\n",
    "\n",
    "For instance, we toss a coin 4 times. What is the probability to obtain 3 tails and 1 head?\n",
    "\n",
    "Mathematics gives us the solution\n",
    "\n",
    "$$ P(3 head)=\\begin{pmatrix}\n",
    "        4\\\\\n",
    "        3\n",
    "    \\end{pmatrix}\n",
    "    \\left(\\frac{1}{2}\\right)^3\\left(1-\\frac{1}{2}\\right)^1=\\frac{1}{4} $$\n",
    "    "
   ]
  },
  {
   "cell_type": "markdown",
   "metadata": {},
   "source": [
    "But we could also do a simmulation:"
   ]
  },
  {
   "cell_type": "code",
   "execution_count": 5,
   "metadata": {},
   "outputs": [
    {
     "name": "stdout",
     "output_type": "stream",
     "text": [
      "Number of attempts=  10000\n",
      "Number of success=  2567\n"
     ]
    }
   ],
   "source": [
    "from random import randint\n",
    "\n",
    "success=0\n",
    "\n",
    "attempts=10000\n",
    "for i in range(attempts):\n",
    "    if randint(0,1) + randint(0,1)+randint(0,1)+randint(0,1) == 3:\n",
    "        success+=1\n",
    "\n",
    "print(\"Number of attempts= \", attempts)\n",
    "print(\"Number of success= \", success)"
   ]
  },
  {
   "cell_type": "markdown",
   "metadata": {},
   "source": [
    "## Module 5. Monte Carlo Methods II"
   ]
  },
  {
   "cell_type": "code",
   "execution_count": null,
   "metadata": {},
   "outputs": [],
   "source": []
  }
 ],
 "metadata": {
  "kernelspec": {
   "display_name": "Python 3",
   "language": "python",
   "name": "python3"
  },
  "language_info": {
   "codemirror_mode": {
    "name": "ipython",
    "version": 3
   },
   "file_extension": ".py",
   "mimetype": "text/x-python",
   "name": "python",
   "nbconvert_exporter": "python",
   "pygments_lexer": "ipython3",
   "version": "3.8.5"
  }
 },
 "nbformat": 4,
 "nbformat_minor": 4
}
